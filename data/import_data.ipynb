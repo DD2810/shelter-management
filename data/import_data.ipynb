{
 "cells": [
  {
   "cell_type": "code",
   "execution_count": 1,
   "metadata": {},
   "outputs": [
    {
     "name": "stdout",
     "output_type": "stream",
     "text": [
      "Collecting sqlalchemy\n",
      "  Downloading SQLAlchemy-2.0.36-cp311-cp311-win_amd64.whl (2.1 MB)\n",
      "     ---------------------------------------- 2.1/2.1 MB 18.9 MB/s eta 0:00:00\n",
      "Requirement already satisfied: typing-extensions>=4.6.0 in d:\\working\\langara\\shelter_management\\.venv\\lib\\site-packages (from sqlalchemy) (4.12.2)\n",
      "Collecting greenlet!=0.4.17\n",
      "  Downloading greenlet-3.1.1-cp311-cp311-win_amd64.whl (298 kB)\n",
      "     ------------------------------------- 298.9/298.9 kB 18.0 MB/s eta 0:00:00\n",
      "Installing collected packages: greenlet, sqlalchemy\n",
      "Successfully installed greenlet-3.1.1 sqlalchemy-2.0.36\n",
      "Note: you may need to restart the kernel to use updated packages.\n"
     ]
    },
    {
     "name": "stderr",
     "output_type": "stream",
     "text": [
      "\n",
      "[notice] A new release of pip available: 22.3.1 -> 24.2\n",
      "[notice] To update, run: python.exe -m pip install --upgrade pip\n"
     ]
    }
   ],
   "source": [
    "pip install sqlalchemy"
   ]
  },
  {
   "cell_type": "code",
   "execution_count": 11,
   "metadata": {},
   "outputs": [
    {
     "name": "stdout",
     "output_type": "stream",
     "text": [
      "The dotenv extension is already loaded. To reload it, use:\n",
      "  %reload_ext dotenv\n"
     ]
    }
   ],
   "source": [
    "import pandas as pd\n",
    "from sqlalchemy import create_engine\n",
    "from dotenv import load_dotenv\n",
    "import os\n",
    "\n",
    "%load_ext dotenv\n",
    "%dotenv"
   ]
  },
  {
   "cell_type": "code",
   "execution_count": 12,
   "metadata": {},
   "outputs": [
    {
     "data": {
      "text/plain": [
       "'localhost'"
      ]
     },
     "execution_count": 12,
     "metadata": {},
     "output_type": "execute_result"
    }
   ],
   "source": []
  },
  {
   "cell_type": "code",
   "execution_count": 4,
   "metadata": {},
   "outputs": [
    {
     "data": {
      "text/html": [
       "<div>\n",
       "<style scoped>\n",
       "    .dataframe tbody tr th:only-of-type {\n",
       "        vertical-align: middle;\n",
       "    }\n",
       "\n",
       "    .dataframe tbody tr th {\n",
       "        vertical-align: top;\n",
       "    }\n",
       "\n",
       "    .dataframe thead th {\n",
       "        text-align: right;\n",
       "    }\n",
       "</style>\n",
       "<table border=\"1\" class=\"dataframe\">\n",
       "  <thead>\n",
       "    <tr style=\"text-align: right;\">\n",
       "      <th></th>\n",
       "      <th>id</th>\n",
       "      <th>name</th>\n",
       "      <th>address</th>\n",
       "      <th>website</th>\n",
       "      <th>description_short</th>\n",
       "      <th>description_full</th>\n",
       "      <th>contact_phone</th>\n",
       "      <th>contact_phone_manager</th>\n",
       "      <th>contact_email</th>\n",
       "    </tr>\n",
       "  </thead>\n",
       "  <tbody>\n",
       "    <tr>\n",
       "      <th>0</th>\n",
       "      <td>1</td>\n",
       "      <td>1660 Shelter</td>\n",
       "      <td>1660 East Hastings Street, Vancouver, BC V5L 1S6</td>\n",
       "      <td>https://www.vafcs.org</td>\n",
       "      <td>Provides year-round, low-barrier, 24-hour emer...</td>\n",
       "      <td>Provided by Vancouver Aboriginal Friendship Ce...</td>\n",
       "      <td>604-428-3625</td>\n",
       "      <td>604-423-6046 Local 409</td>\n",
       "      <td>shelter@vafcs.org</td>\n",
       "    </tr>\n",
       "    <tr>\n",
       "      <th>1</th>\n",
       "      <td>2</td>\n",
       "      <td>3030 Gordon - Shelter</td>\n",
       "      <td>3030 Gordon Avenue, Coquitlam, BC V3C 2K7</td>\n",
       "      <td>https://www.raincityhousing.org/about/program</td>\n",
       "      <td>Year-round temporary shelter with 30 beds for ...</td>\n",
       "      <td>Provided by RainCity Housing and Support Socie...</td>\n",
       "      <td>604-474-0435</td>\n",
       "      <td>NaN</td>\n",
       "      <td>3030front@raincityhousing.org</td>\n",
       "    </tr>\n",
       "    <tr>\n",
       "      <th>2</th>\n",
       "      <td>3</td>\n",
       "      <td>ARC Emergency Shelter</td>\n",
       "      <td>Addictions and Rehabilitation Centre (ARC), 52...</td>\n",
       "      <td>https://www.victoriaarc.org</td>\n",
       "      <td>Offers 42 emergency shelter beds for men (cisg...</td>\n",
       "      <td>Provided by The Salvation Army - BC Division22...</td>\n",
       "      <td>250-384-3396 Local 1</td>\n",
       "      <td>NaN</td>\n",
       "      <td>brenda.wadey@salvationarmy.ca</td>\n",
       "    </tr>\n",
       "    <tr>\n",
       "      <th>3</th>\n",
       "      <td>4</td>\n",
       "      <td>Abbotsford Food for the Soul Project</td>\n",
       "      <td>2155 McKenzie Road, Abbotsford, BC V2S 3Z9</td>\n",
       "      <td>https://www.fftsp.org</td>\n",
       "      <td>Provides a variety of services in Abbotsford f...</td>\n",
       "      <td>Provided by Food for the Soul Project Society1...</td>\n",
       "      <td>604-746-9797</td>\n",
       "      <td>NaN</td>\n",
       "      <td>info@fftsp.org</td>\n",
       "    </tr>\n",
       "    <tr>\n",
       "      <th>4</th>\n",
       "      <td>5</td>\n",
       "      <td>Aboriginal Shelter</td>\n",
       "      <td>201 Central Street, Vancouver, BC V6A 4A9</td>\n",
       "      <td>https://www.vafcs.org</td>\n",
       "      <td>An emergency low-barrier shelter that accommod...</td>\n",
       "      <td>Provided by Vancouver Aboriginal Friendship Ce...</td>\n",
       "      <td>604-682-5556</td>\n",
       "      <td>NaN</td>\n",
       "      <td>201shelter@vafcs.org</td>\n",
       "    </tr>\n",
       "  </tbody>\n",
       "</table>\n",
       "</div>"
      ],
      "text/plain": [
       "   id                                  name  \\\n",
       "0   1                          1660 Shelter   \n",
       "1   2                 3030 Gordon - Shelter   \n",
       "2   3                 ARC Emergency Shelter   \n",
       "3   4  Abbotsford Food for the Soul Project   \n",
       "4   5                    Aboriginal Shelter   \n",
       "\n",
       "                                             address  \\\n",
       "0   1660 East Hastings Street, Vancouver, BC V5L 1S6   \n",
       "1          3030 Gordon Avenue, Coquitlam, BC V3C 2K7   \n",
       "2  Addictions and Rehabilitation Centre (ARC), 52...   \n",
       "3         2155 McKenzie Road, Abbotsford, BC V2S 3Z9   \n",
       "4          201 Central Street, Vancouver, BC V6A 4A9   \n",
       "\n",
       "                                         website  \\\n",
       "0                          https://www.vafcs.org   \n",
       "1  https://www.raincityhousing.org/about/program   \n",
       "2                    https://www.victoriaarc.org   \n",
       "3                          https://www.fftsp.org   \n",
       "4                          https://www.vafcs.org   \n",
       "\n",
       "                                   description_short  \\\n",
       "0  Provides year-round, low-barrier, 24-hour emer...   \n",
       "1  Year-round temporary shelter with 30 beds for ...   \n",
       "2  Offers 42 emergency shelter beds for men (cisg...   \n",
       "3  Provides a variety of services in Abbotsford f...   \n",
       "4  An emergency low-barrier shelter that accommod...   \n",
       "\n",
       "                                    description_full         contact_phone  \\\n",
       "0  Provided by Vancouver Aboriginal Friendship Ce...          604-428-3625   \n",
       "1  Provided by RainCity Housing and Support Socie...          604-474-0435   \n",
       "2  Provided by The Salvation Army - BC Division22...  250-384-3396 Local 1   \n",
       "3  Provided by Food for the Soul Project Society1...          604-746-9797   \n",
       "4  Provided by Vancouver Aboriginal Friendship Ce...          604-682-5556   \n",
       "\n",
       "    contact_phone_manager                  contact_email  \n",
       "0  604-423-6046 Local 409              shelter@vafcs.org  \n",
       "1                     NaN  3030front@raincityhousing.org  \n",
       "2                     NaN  brenda.wadey@salvationarmy.ca  \n",
       "3                     NaN                 info@fftsp.org  \n",
       "4                     NaN           201shelter@vafcs.org  "
      ]
     },
     "execution_count": 4,
     "metadata": {},
     "output_type": "execute_result"
    }
   ],
   "source": [
    "file_path = './data/complete_shelter_rename_col.csv'  # Update with your local file path\n",
    "shelters_df = pd.read_csv(file_path)\n",
    "shelters_df.head(5)"
   ]
  },
  {
   "cell_type": "code",
   "execution_count": null,
   "metadata": {},
   "outputs": [],
   "source": [
    "\n",
    "\n",
    "# Connect to your PostgreSQL database\n",
    "DATABASE_URL = f\"postgresql://{os.environ['DATABASE_USER']}:{os.environ['DATABASE_PASSWORD']}@{os.environ['DATABASE_HOST']}:{os.environ['DATABASE_PORT']}/{os.environ['DATABASE_NAME']}\"\n",
    "engine = create_engine(DATABASE_URL)\n",
    "\n",
    "# Define the function to insert data into the 'shelters' table\n",
    "def insert_shelters_data(dataframe, engine):\n",
    "    with engine.connect() as connection:\n",
    "        # Insert data into the 'shelters' table\n",
    "        dataframe.to_sql('shelters', connection, if_exists='append', index=False)\n",
    "\n",
    "# Prepare data (Make sure column names in the CSV match those in the table)\n",
    "shelters_df = shelters_df[['id','name', 'website', 'address', \n",
    "                           'contact_email', 'contact_phone', 'contact_phone_manager', \n",
    "                           'description_short', 'description_full']]\n",
    "\n",
    "# Insert the data\n",
    "insert_shelters_data(shelters_df, engine)"
   ]
  }
 ],
 "metadata": {
  "kernelspec": {
   "display_name": ".venv",
   "language": "python",
   "name": "python3"
  },
  "language_info": {
   "codemirror_mode": {
    "name": "ipython",
    "version": 3
   },
   "file_extension": ".py",
   "mimetype": "text/x-python",
   "name": "python",
   "nbconvert_exporter": "python",
   "pygments_lexer": "ipython3",
   "version": "3.11.3"
  }
 },
 "nbformat": 4,
 "nbformat_minor": 2
}
